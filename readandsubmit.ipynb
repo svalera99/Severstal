{
 "cells": [
  {
   "cell_type": "markdown",
   "metadata": {},
   "source": [
    "### Functions to read files"
   ]
  },
  {
   "cell_type": "code",
   "execution_count": 6,
   "metadata": {},
   "outputs": [],
   "source": [
    "def readImgNames(train=True):\n",
    "    names = list()\n",
    "    loc = \"train_images/*\" if train else \"test_images/*\"\n",
    "    return [i[i.index(\"\\\\\")+1:] for i in glob.glob(loc)]"
   ]
  },
  {
   "cell_type": "code",
   "execution_count": 5,
   "metadata": {},
   "outputs": [],
   "source": [
    "def readConfigs():\n",
    "    df = pd.read_csv(\"train.csv\")\n",
    "    return df"
   ]
  },
  {
   "cell_type": "code",
   "execution_count": 6,
   "metadata": {},
   "outputs": [],
   "source": [
    "def readImg(name):\n",
    "    return cv2.imread(f\"train_images/{name}\")"
   ]
  },
  {
   "cell_type": "markdown",
   "metadata": {},
   "source": [
    "### Functions to make a submission"
   ]
  },
  {
   "cell_type": "code",
   "execution_count": 2,
   "metadata": {},
   "outputs": [],
   "source": [
    "def make_mask_from_rle(rle, width=256, height=1600):\n",
    "    res = np.array([0 for _ in range(width * height )])\n",
    "    for inx in range(0,len(rle),2):\n",
    "        start = rle[inx]-1\n",
    "        end = start + rle[inx+1]\n",
    "        res[start:end] = 1\n",
    "    return np.flipud( np.rot90( res.reshape(height,width), k=1 ) )"
   ]
  },
  {
   "cell_type": "code",
   "execution_count": 1,
   "metadata": {},
   "outputs": [],
   "source": [
    "def make_rle(ar): # must be numpy array\n",
    "    ar = ar.flatten()\n",
    "    new_ar = list()\n",
    "    \n",
    "    flag = False\n",
    "    for inx,val in enumerate(ar):\n",
    "        if not val:\n",
    "            if not flag:\n",
    "                new_ar.append(inx+1) \n",
    "                flag = True\n",
    "        else:\n",
    "            if flag:\n",
    "                flag = False\n",
    "                new_ar.append(inx-new_ar[-1]+1)\n",
    "    if flag:\n",
    "        new_ar.append(ar.shape[0] - new_ar[-1] + 1)\n",
    "        \n",
    "    return new_ar  "
   ]
  },
  {
   "cell_type": "markdown",
   "metadata": {},
   "source": [
    "#### Resize function"
   ]
  },
  {
   "cell_type": "code",
   "execution_count": 5,
   "metadata": {},
   "outputs": [],
   "source": [
    "def resize(train=True):\n",
    "    path = \"train_images/*\" if train else \"test_images/*\" \n",
    "    for img in glob.glob(path):\n",
    "        im = cv2.imread(img)\n",
    "        im = cv2.resize(im,(256,256))\n",
    "        name = img[img.index('\\\\')+1:]\n",
    "        if train:\n",
    "            cv2.imwrite(f\"resized/{name}\", im)\n",
    "        else:\n",
    "            cv2.imwrite(f\"resized_test/{name}\", im)\n"
   ]
  },
  {
   "cell_type": "markdown",
   "metadata": {},
   "source": [
    "__Score function__"
   ]
  },
  {
   "cell_type": "code",
   "execution_count": 1,
   "metadata": {},
   "outputs": [],
   "source": [
    "def dice_coef(y_true, y_pred, smooth=1):\n",
    "    y_true_f = K.flatten(y_true)\n",
    "    y_pred_f = K.flatten(y_pred)\n",
    "    intersection = K.sum(y_true_f * y_pred_f)\n",
    "    return (2. * intersection + smooth) / (K.sum(y_true_f) + K.sum(y_pred_f) + smooth)"
   ]
  },
  {
   "cell_type": "code",
   "execution_count": 2,
   "metadata": {},
   "outputs": [],
   "source": [
    "def dice_loss(y_true, y_pred):\n",
    "    smooth = 1.\n",
    "    y_true_f = K.flatten(y_true)\n",
    "    y_pred_f = K.flatten(y_pred)\n",
    "    intersection = y_true_f * y_pred_f\n",
    "    score = (2. * K.sum(intersection) + smooth) / (K.sum(y_true_f) + K.sum(y_pred_f) + smooth)\n",
    "    return 1. - score\n",
    "def bce_dice_loss(y_true, y_pred):\n",
    "    return binary_crossentropy(y_true, y_pred) + dice_loss(y_true, y_pred)"
   ]
  },
  {
   "cell_type": "code",
   "execution_count": null,
   "metadata": {},
   "outputs": [],
   "source": []
  }
 ],
 "metadata": {
  "kernelspec": {
   "display_name": "Python 3",
   "language": "python",
   "name": "python3"
  },
  "language_info": {
   "codemirror_mode": {
    "name": "ipython",
    "version": 3
   },
   "file_extension": ".py",
   "mimetype": "text/x-python",
   "name": "python",
   "nbconvert_exporter": "python",
   "pygments_lexer": "ipython3",
   "version": "3.7.6"
  }
 },
 "nbformat": 4,
 "nbformat_minor": 4
}
