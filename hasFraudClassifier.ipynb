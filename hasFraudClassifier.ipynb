{
 "cells": [
  {
   "cell_type": "markdown",
   "metadata": {
    "colab_type": "text",
    "id": "fq7YGJLhbhPJ"
   },
   "source": [
    "__Because there are so many images that doesn't contain any kind of fraud I decided to first train a model that determines whether picture has a fraud or not__"
   ]
  },
  {
   "cell_type": "code",
   "execution_count": 2,
   "metadata": {
    "colab": {},
    "colab_type": "code",
    "id": "JKbG5MMIbhPM"
   },
   "outputs": [
    {
     "name": "stderr",
     "output_type": "stream",
     "text": [
      "Using TensorFlow backend.\n"
     ]
    }
   ],
   "source": [
    "import pandas as pd\n",
    "import numpy as np\n",
    "import tensorflow as tf\n",
    "import matplotlib.pyplot as plt\n",
    "from keras.preprocessing.image import ImageDataGenerator\n",
    "from keras.applications import DenseNet121\n",
    "from keras.callbacks import Callback, ModelCheckpoint, ReduceLROnPlateau, EarlyStopping\n",
    "from keras import layers\n",
    "from keras.applications import resnet, mobilenet\n",
    "import glob\n",
    "from keras.models import Sequential\n",
    "import cv2\n",
    "%run readandsubmit.ipynb\n",
    "import warnings\n",
    "warnings.filterwarnings(\"ignore\")\n",
    "# import keras"
   ]
  },
  {
   "cell_type": "code",
   "execution_count": 0,
   "metadata": {
    "colab": {},
    "colab_type": "code",
    "id": "BE_AWr9BbhPP"
   },
   "outputs": [],
   "source": [
    "frauds = readConfigs()\n",
    "names = readImgNames()"
   ]
  },
  {
   "cell_type": "code",
   "execution_count": 0,
   "metadata": {
    "colab": {},
    "colab_type": "code",
    "id": "qFy9q80abhPR"
   },
   "outputs": [],
   "source": [
    "df = pd.DataFrame(names,columns=[\"ImageId\"])\n",
    "df[\"hasFraud\"] = np.array([1 if i in frauds[\"ImageId\"].unique() else 0 for i in names ]).astype(str)"
   ]
  },
  {
   "cell_type": "code",
   "execution_count": 0,
   "metadata": {
    "colab": {
     "base_uri": "https://localhost:8080/",
     "height": 195
    },
    "colab_type": "code",
    "id": "9NK46CL7bhPV",
    "outputId": "86926e3f-df2d-4103-d99b-7d69fe80fd3d",
    "scrolled": true
   },
   "outputs": [
    {
     "data": {
      "text/html": [
       "<div>\n",
       "<style scoped>\n",
       "    .dataframe tbody tr th:only-of-type {\n",
       "        vertical-align: middle;\n",
       "    }\n",
       "\n",
       "    .dataframe tbody tr th {\n",
       "        vertical-align: top;\n",
       "    }\n",
       "\n",
       "    .dataframe thead th {\n",
       "        text-align: right;\n",
       "    }\n",
       "</style>\n",
       "<table border=\"1\" class=\"dataframe\">\n",
       "  <thead>\n",
       "    <tr style=\"text-align: right;\">\n",
       "      <th></th>\n",
       "      <th>ImageId</th>\n",
       "      <th>hasFraud</th>\n",
       "    </tr>\n",
       "  </thead>\n",
       "  <tbody>\n",
       "    <tr>\n",
       "      <th>0</th>\n",
       "      <td>dea277f4a.jpg</td>\n",
       "      <td>1</td>\n",
       "    </tr>\n",
       "    <tr>\n",
       "      <th>1</th>\n",
       "      <td>b845ef149.jpg</td>\n",
       "      <td>1</td>\n",
       "    </tr>\n",
       "    <tr>\n",
       "      <th>2</th>\n",
       "      <td>ba1500f6f.jpg</td>\n",
       "      <td>0</td>\n",
       "    </tr>\n",
       "    <tr>\n",
       "      <th>3</th>\n",
       "      <td>9172281a1.jpg</td>\n",
       "      <td>0</td>\n",
       "    </tr>\n",
       "    <tr>\n",
       "      <th>4</th>\n",
       "      <td>10378f8ea.jpg</td>\n",
       "      <td>1</td>\n",
       "    </tr>\n",
       "  </tbody>\n",
       "</table>\n",
       "</div>"
      ],
      "text/plain": [
       "         ImageId hasFraud\n",
       "0  dea277f4a.jpg        1\n",
       "1  b845ef149.jpg        1\n",
       "2  ba1500f6f.jpg        0\n",
       "3  9172281a1.jpg        0\n",
       "4  10378f8ea.jpg        1"
      ]
     },
     "execution_count": 27,
     "metadata": {
      "tags": []
     },
     "output_type": "execute_result"
    }
   ],
   "source": [
    "df.head()"
   ]
  },
  {
   "cell_type": "markdown",
   "metadata": {
    "colab_type": "text",
    "id": "KEeYOWxFbhPY"
   },
   "source": [
    "So we'll train out model on that dataset and I'll write a datagen for every image of it."
   ]
  },
  {
   "cell_type": "code",
   "execution_count": 0,
   "metadata": {
    "colab": {},
    "colab_type": "code",
    "id": "LTUj3IRjbhPY"
   },
   "outputs": [],
   "source": [
    "def createGen():\n",
    "    return ImageDataGenerator(\n",
    "        shear_range=0.2,\n",
    "        zoom_range=0.2,\n",
    "        zca_whitening=True,\n",
    "        fill_mode='reflect',\n",
    "        rotation_range=10,\n",
    "        height_shift_range=0.1,\n",
    "        width_shift_range=0.1,\n",
    "        horizontal_flip=True,\n",
    "        vertical_flip=True,\n",
    "        validation_split=0.2\n",
    "    )"
   ]
  },
  {
   "cell_type": "code",
   "execution_count": 0,
   "metadata": {
    "colab": {},
    "colab_type": "code",
    "id": "RQ8qCjyTbhPd"
   },
   "outputs": [],
   "source": [
    "def createTrainValFlow(generator, type_):\n",
    "    return generator.flow_from_dataframe(\n",
    "        df,\n",
    "        directory=\"resized\",\n",
    "        x_col=\"ImageId\",\n",
    "        y_col=\"hasFraud\",\n",
    "        class_mode='binary',\n",
    "        target_size=(256, 256),\n",
    "        batch_size=32,\n",
    "        subset=type_\n",
    "    )"
   ]
  },
  {
   "cell_type": "code",
   "execution_count": 53,
   "metadata": {
    "colab": {
     "base_uri": "https://localhost:8080/",
     "height": 50
    },
    "colab_type": "code",
    "id": "DTj6frxtbhPf",
    "outputId": "313d3c7d-8fc4-4187-b2b5-7cea84a64f0a"
   },
   "outputs": [
    {
     "name": "stdout",
     "output_type": "stream",
     "text": [
      "Found 10055 validated image filenames belonging to 2 classes.\n",
      "Found 2513 validated image filenames belonging to 2 classes.\n"
     ]
    }
   ],
   "source": [
    "generator = createGen()\n",
    "train = createTrainValFlow(generator, \"training\")\n",
    "val = createTrainValFlow(generator, \"validation\")"
   ]
  },
  {
   "cell_type": "code",
   "execution_count": 0,
   "metadata": {
    "colab": {},
    "colab_type": "code",
    "id": "0GCLHMAhbhPg"
   },
   "outputs": [],
   "source": [
    "def build_model():\n",
    "    mobilenet_ = mobilenet.MobileNet(\n",
    "        include_top=False,\n",
    "        input_shape=(256,256,3),\n",
    "        weights='imagenet',\n",
    "    )\n",
    "    \n",
    "    model = Sequential()\n",
    "    model.add(mobilenet_)\n",
    "    model.add(layers.GlobalMaxPooling2D())\n",
    "    model.add(layers.BatchNormalization())\n",
    "    model.add(layers.Dropout(0.5))\n",
    "    model.add(layers.Dense(256, activation='relu'))\n",
    "    model.add(layers.BatchNormalization())\n",
    "    model.add(layers.Dropout(0.5))\n",
    "    model.add(layers.Dense(1, activation='sigmoid'))\n",
    "    \n",
    "    model.compile(\n",
    "        loss='binary_crossentropy',\n",
    "        optimizer=\"adam\",\n",
    "        metrics=['accuracy']\n",
    "    )\n",
    "    \n",
    "    return model"
   ]
  },
  {
   "cell_type": "code",
   "execution_count": 0,
   "metadata": {
    "colab": {},
    "colab_type": "code",
    "id": "N8eV4MkJbhPi"
   },
   "outputs": [],
   "source": [
    "model = build_model()"
   ]
  },
  {
   "cell_type": "code",
   "execution_count": 56,
   "metadata": {
    "colab": {
     "base_uri": "https://localhost:8080/",
     "height": 420
    },
    "colab_type": "code",
    "id": "1f4KfEMlbhPj",
    "outputId": "a295d291-620e-4a05-eb54-63fe4819a305"
   },
   "outputs": [
    {
     "name": "stdout",
     "output_type": "stream",
     "text": [
      "Model: \"sequential_1\"\n",
      "_________________________________________________________________\n",
      "Layer (type)                 Output Shape              Param #   \n",
      "=================================================================\n",
      "mobilenet_1.00_224 (Model)   (None, 8, 8, 1024)        3228864   \n",
      "_________________________________________________________________\n",
      "global_max_pooling2d_1 (Glob (None, 1024)              0         \n",
      "_________________________________________________________________\n",
      "batch_normalization_1 (Batch (None, 1024)              4096      \n",
      "_________________________________________________________________\n",
      "dropout_1 (Dropout)          (None, 1024)              0         \n",
      "_________________________________________________________________\n",
      "dense_1 (Dense)              (None, 256)               262400    \n",
      "_________________________________________________________________\n",
      "batch_normalization_2 (Batch (None, 256)               1024      \n",
      "_________________________________________________________________\n",
      "dropout_2 (Dropout)          (None, 256)               0         \n",
      "_________________________________________________________________\n",
      "dense_2 (Dense)              (None, 1)                 257       \n",
      "=================================================================\n",
      "Total params: 3,496,641\n",
      "Trainable params: 3,472,193\n",
      "Non-trainable params: 24,448\n",
      "_________________________________________________________________\n"
     ]
    }
   ],
   "source": [
    "model.summary()"
   ]
  },
  {
   "cell_type": "code",
   "execution_count": 59,
   "metadata": {
    "colab": {
     "base_uri": "https://localhost:8080/",
     "height": 403
    },
    "colab_type": "code",
    "id": "h4JGhxXybhPl",
    "outputId": "aebd0d35-82dc-4c91-90f3-620cbb60413b"
   },
   "outputs": [
    {
     "name": "stdout",
     "output_type": "stream",
     "text": [
      "Epoch 1/50\n",
      "334/333 [==============================] - 209s 625ms/step - loss: 0.2118 - acc: 0.9153 - val_loss: 0.2054 - val_acc: 0.9184\n",
      "\n",
      "Epoch 00001: val_acc improved from -inf to 0.91843, saving model to model.h5\n",
      "Epoch 2/50\n",
      "334/333 [==============================] - 202s 605ms/step - loss: 0.2092 - acc: 0.9176 - val_loss: 0.1743 - val_acc: 0.9290\n",
      "\n",
      "Epoch 00002: val_acc improved from 0.91843 to 0.92899, saving model to model.h5\n",
      "Epoch 3/50\n",
      "334/333 [==============================] - 203s 608ms/step - loss: 0.1923 - acc: 0.9212 - val_loss: 0.2895 - val_acc: 0.8815\n",
      "\n",
      "Epoch 00003: val_acc did not improve from 0.92899\n",
      "Epoch 4/50\n",
      "334/333 [==============================] - 203s 608ms/step - loss: 0.1927 - acc: 0.9244 - val_loss: 0.2840 - val_acc: 0.8824\n",
      "\n",
      "Epoch 00004: val_acc did not improve from 0.92899\n",
      "Epoch 5/50\n",
      "334/333 [==============================] - 204s 610ms/step - loss: 0.2052 - acc: 0.9184 - val_loss: 0.3167 - val_acc: 0.8729\n",
      "\n",
      "Epoch 00005: ReduceLROnPlateau reducing learning rate to 0.00010000000474974513.\n",
      "\n",
      "Epoch 00005: val_acc did not improve from 0.92899\n",
      "Epoch 00005: early stopping\n"
     ]
    }
   ],
   "source": [
    "total_steps = df.shape[0] / 32\n",
    "checkpoint = ModelCheckpoint(\n",
    "    'weights/model.h5', \n",
    "    monitor='val_acc', \n",
    "    verbose=1, \n",
    "    save_best_only=True, \n",
    "    save_weights_only=False,\n",
    "    mode='auto'\n",
    ")\n",
    "reduce_lr = ReduceLROnPlateau(\n",
    "    monitor='val_loss',\n",
    "    patience=3,\n",
    "    verbose=1\n",
    ")\n",
    "es = EarlyStopping(\n",
    "    monitor='val_loss',\n",
    "    verbose=1,\n",
    "    patience=3\n",
    ")\n",
    "history = model.fit_generator(\n",
    "    train,\n",
    "    validation_data=val,\n",
    "    steps_per_epoch=total_steps * 0.85,\n",
    "    validation_steps=total_steps * 0.15,\n",
    "    epochs=50,\n",
    "    callbacks=[reduce_lr,es,checkpoint],\n",
    "    verbose=1\n",
    ")"
   ]
  },
  {
   "cell_type": "markdown",
   "metadata": {
    "colab_type": "text",
    "id": "TcwknmjRjgvP"
   },
   "source": [
    "So model gives me a validation score of 0.928 which is good enough for me, it could be improved with using bigger pretrained nn, but it would \n",
    "take more time to learn."
   ]
  },
  {
   "cell_type": "code",
   "execution_count": 89,
   "metadata": {
    "colab": {
     "base_uri": "https://localhost:8080/",
     "height": 320
    },
    "colab_type": "code",
    "id": "bHrxhjAPdxyt",
    "outputId": "c0997e2a-c495-4569-ed17-72ba92a4d9b9"
   },
   "outputs": [
    {
     "data": {
      "image/png": "[encoded data removed]",
      "text/plain": [
       "<Figure size 720x360 with 2 Axes>"
      ]
     },
     "metadata": {
      "tags": []
     },
     "output_type": "display_data"
    }
   ],
   "source": [
    "history_df = pd.DataFrame(history.history).rename(index={i:i+1 for i in range(5)})\n",
    "\n",
    "_, ax = plt.subplots(nrows=2,figsize=(10,5))\n",
    "ax[0].xaxis.set_ticks(range(1,6))\n",
    "ax[1].xaxis.set_ticks(range(1,6))\n",
    "history_df[['loss', 'val_loss']].plot(ax=ax[0]);\n",
    "history_df[['acc', 'val_acc']].plot(ax=ax[1]);"
   ]
  }
 ],
 "metadata": {
  "accelerator": "GPU",
  "colab": {
   "collapsed_sections": [],
   "name": "modelin.ipynb",
   "provenance": []
  },
  "kernelspec": {
   "display_name": "Python 3",
   "language": "python",
   "name": "python3"
  },
  "language_info": {
   "codemirror_mode": {
    "name": "ipython",
    "version": 3
   },
   "file_extension": ".py",
   "mimetype": "text/x-python",
   "name": "python",
   "nbconvert_exporter": "python",
   "pygments_lexer": "ipython3",
   "version": "3.7.6"
  }
 },
 "nbformat": 4,
 "nbformat_minor": 1
}
